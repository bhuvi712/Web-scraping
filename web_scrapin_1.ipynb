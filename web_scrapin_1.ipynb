{
  "nbformat": 4,
  "nbformat_minor": 0,
  "metadata": {
    "colab": {
      "name": "web_scrapin_1.ipynb",
      "provenance": [],
      "collapsed_sections": [],
      "authorship_tag": "ABX9TyP2Panz4f4hobH6TMt2Hs1k",
      "include_colab_link": true
    },
    "kernelspec": {
      "name": "python3",
      "display_name": "Python 3"
    }
  },
  "cells": [
    {
      "cell_type": "markdown",
      "metadata": {
        "id": "view-in-github",
        "colab_type": "text"
      },
      "source": [
        "<a href=\"https://colab.research.google.com/github/bhuvi712/Web-scraping/blob/master/web_scrapin_1.ipynb\" target=\"_parent\"><img src=\"https://colab.research.google.com/assets/colab-badge.svg\" alt=\"Open In Colab\"/></a>"
      ]
    },
    {
      "cell_type": "code",
      "metadata": {
        "id": "fvL615F3cio5",
        "colab_type": "code",
        "colab": {
          "base_uri": "https://localhost:8080/",
          "height": 124
        },
        "outputId": "721b7000-71d8-4b1c-907f-b89a31e71cc4"
      },
      "source": [
        "import requests\n",
        "from bs4 import BeautifulSoup\n",
        "\n",
        "def get_upcoming_events(url):\n",
        "    req = requests.get(url)\n",
        "\n",
        "    soup = BeautifulSoup(req.text, 'lxml')\n",
        "\n",
        "    events = soup.find('ul', {'class': 'list-recent-events'}).findAll('li')\n",
        "\n",
        "    for event in events:\n",
        "        event_details = dict()\n",
        "        event_details['name'] = event.find('h3').find(\"a\").text\n",
        "        event_details['location'] = event.find('span', {'class', 'event-location'}).text\n",
        "        event_details['time'] = event.find('time').text\n",
        "        print(event_details)\n",
        "\n",
        "get_upcoming_events('https://www.python.org/events/python-events/')"
      ],
      "execution_count": 1,
      "outputs": [
        {
          "output_type": "stream",
          "text": [
            "{'name': \"Python fwdays'20\", 'location': 'Online', 'time': '16 May 2020 6:50am UTC – 2pm UTC'}\n",
            "{'name': \"Python fwdays'20\", 'location': 'Online', 'time': '23 May 2020 6:50am UTC – 2:30pm UTC'}\n",
            "{'name': 'PyLondinium 2020 (postponed)', 'location': 'London, UK', 'time': '05 June – 07 June  2020'}\n",
            "{'name': 'PyCon CZ 2020 (canceled)', 'location': 'Ostrava, Czech Republic', 'time': '05 June – 07 June  2020'}\n",
            "{'name': 'PyCon Odessa 2020', 'location': 'Odessa, Ukraine', 'time': '13 June – 14 June  2020'}\n",
            "{'name': 'Python Web Conference 2020 (Online-Worldwide)', 'location': 'https://2020.pythonwebconf.com', 'time': '17 June – 19 June  2020'}\n"
          ],
          "name": "stdout"
        }
      ]
    },
    {
      "cell_type": "code",
      "metadata": {
        "id": "ysq3cPWmdCf6",
        "colab_type": "code",
        "colab": {
          "base_uri": "https://localhost:8080/",
          "height": 179
        },
        "outputId": "41e4d309-3bfa-4145-a714-dfd87cc6e49c"
      },
      "source": [
        "import urllib3\n",
        "from bs4 import BeautifulSoup\n",
        "\n",
        "def get_upcoming_events(url):\n",
        "    req = urllib3.PoolManager()\n",
        "    res = req.request('GET', url)\n",
        "\n",
        "    soup = BeautifulSoup(res.data, 'html.parser')\n",
        "\n",
        "    events = soup.find('ul', {'class': 'list-recent-events'}).findAll('li')\n",
        "\n",
        "    for event in events:\n",
        "        event_details = dict()\n",
        "        event_details['name'] = event.find('h3').find(\"a\").text\n",
        "        event_details['location'] = event.find('span', {'class', 'event-location'}).text\n",
        "        event_details['time'] = event.find('time').text\n",
        "        print(event_details)\n",
        "\n",
        "get_upcoming_events('https://www.python.org/events/python-events/')"
      ],
      "execution_count": 4,
      "outputs": [
        {
          "output_type": "stream",
          "text": [
            "{'name': \"Python fwdays'20\", 'location': 'Online', 'time': '16 May 2020 6:50am UTC – 2pm UTC'}\n",
            "{'name': \"Python fwdays'20\", 'location': 'Online', 'time': '23 May 2020 6:50am UTC – 2:30pm UTC'}\n",
            "{'name': 'PyLondinium 2020 (postponed)', 'location': 'London, UK', 'time': '05 June – 07 June  2020'}\n",
            "{'name': 'PyCon CZ 2020 (canceled)', 'location': 'Ostrava, Czech Republic', 'time': '05 June – 07 June  2020'}\n",
            "{'name': 'PyCon Odessa 2020', 'location': 'Odessa, Ukraine', 'time': '13 June – 14 June  2020'}\n",
            "{'name': 'Python Web Conference 2020 (Online-Worldwide)', 'location': 'https://2020.pythonwebconf.com', 'time': '17 June – 19 June  2020'}\n"
          ],
          "name": "stdout"
        },
        {
          "output_type": "stream",
          "text": [
            "/usr/local/lib/python3.6/dist-packages/urllib3/connectionpool.py:847: InsecureRequestWarning: Unverified HTTPS request is being made. Adding certificate verification is strongly advised. See: https://urllib3.readthedocs.io/en/latest/advanced-usage.html#ssl-warnings\n",
            "  InsecureRequestWarning)\n"
          ],
          "name": "stderr"
        }
      ]
    }
  ]
}